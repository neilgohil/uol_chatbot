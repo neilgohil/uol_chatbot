{
 "cells": [
  {
   "cell_type": "code",
   "execution_count": 1,
   "metadata": {},
   "outputs": [
    {
     "name": "stdout",
     "output_type": "stream",
     "text": [
      "--2021-05-24 19:58:50--  https://bin.equinox.io/c/4VmDzA7iaHb/ngrok-stable-linux-amd64.zip\n",
      "Resolving bin.equinox.io (bin.equinox.io)... 52.55.225.227, 54.144.219.72, 3.211.204.50, ...\n",
      "Connecting to bin.equinox.io (bin.equinox.io)|52.55.225.227|:443... connected.\n",
      "HTTP request sent, awaiting response... 200 OK\n",
      "Length: 13832437 (13M) [application/octet-stream]\n",
      "Saving to: ‘ngrok-stable-linux-amd64.zip’\n",
      "\n",
      "ngrok-stable-linux- 100%[===================>]  13.19M  13.9MB/s    in 1.0s    \n",
      "\n",
      "2021-05-24 19:58:51 (13.9 MB/s) - ‘ngrok-stable-linux-amd64.zip’ saved [13832437/13832437]\n",
      "\n"
     ]
    }
   ],
   "source": [
    "!wget https://bin.equinox.io/c/4VmDzA7iaHb/ngrok-stable-linux-amd64.zip"
   ]
  },
  {
   "cell_type": "code",
   "execution_count": 2,
   "metadata": {},
   "outputs": [
    {
     "name": "stdout",
     "output_type": "stream",
     "text": [
      "Archive:  ngrok-stable-linux-amd64.zip\n",
      "  inflating: ngrok                   \n"
     ]
    }
   ],
   "source": [
    "!unzip ngrok-stable-linux-amd64.zip"
   ]
  },
  {
   "cell_type": "code",
   "execution_count": 3,
   "metadata": {},
   "outputs": [
    {
     "name": "stdout",
     "output_type": "stream",
     "text": [
      "Authtoken saved to configuration file: /root/.ngrok2/ngrok.yml\r\n"
     ]
    }
   ],
   "source": [
    "!./ngrok authtoken 1stV2X9NTwdWDhjPT7juZJIlzvw_4PjfhsmHr4ys7VEXtjQyf"
   ]
  },
  {
   "cell_type": "code",
   "execution_count": null,
   "metadata": {},
   "outputs": [
    {
     "name": "stdout",
     "output_type": "stream",
     "text": [
      "\u001b7\u001b[?47h\u001b[?1h\u001b=\u0002\u0007\u001b[H\u001b[2J\u001b[m\u001b[38;5;6m\u001b[48;5;16m\u001b[1m\u001b[1;1Hngrok\u001b[m\u001b[38;5;16m\u001b[48;5;16m \u001b[m\u001b[38;5;7m\u001b[48;5;16mby\u001b[m\u001b[38;5;16m\u001b[48;5;16m \u001b[m\u001b[38;5;6m\u001b[48;5;16m\u001b[1m@inconshreveable\u001b[m\u001b[38;5;16m\u001b[48;5;16m                                       \u001b[m\u001b[38;5;7m\u001b[48;5;16m(Ctrl+C to quit)\u001b[m\u001b[38;5;16m\u001b[48;5;16m\u001b[2;1H                                                                                \u001b[m\u001b[38;5;6m\u001b[48;5;16m\u001b[3;1HSession Status                connecting\u001b[m\u001b[38;5;16m\u001b[48;5;16m                                        \u001b[m\u001b[38;5;7m\u001b[48;5;16m\u001b[4;1HVersion                       2.3.40\u001b[m\u001b[38;5;16m\u001b[48;5;16m                                            \u001b[m\u001b[38;5;7m\u001b[48;5;16m\u001b[5;1HRegion                        United States (us)\u001b[m\u001b[38;5;16m\u001b[48;5;16m                                \u001b[m\u001b[38;5;7m\u001b[48;5;16m\u001b[6;1HWeb Interface                 http://127.0.0.1:4040\u001b[m\u001b[38;5;16m\u001b[48;5;16m                             \u001b[7;1H                                                                                \u001b[m\u001b[38;5;7m\u001b[48;5;16m\u001b[8;1HConnections                   ttl     opn     rt1     rt5     p50     p90     \u001b[m\u001b[38;5;16m\u001b[48;5;16m  \u001b[m\u001b[38;5;7m\u001b[48;5;16m\u001b[9;1H                              0       0       0.00    0.00    0.00    0.00    \u001b[m\u001b[38;5;16m\u001b[48;5;16m  \u001b[10;1H                                                                                \u001b[11;1H                                                                                \u001b[12;1H                                                                                \u001b[13;1H                                                                                \u001b[14;1H                                                                                \u001b[15;1H                                                                                \u001b[16;1H                                                                                \u001b[17;1H                                                                                \u001b[18;1H                                                                                \u001b[19;1H                                                                                \u001b[20;1H                                                                                \u001b[21;1H                                                                                \u001b[22;1H                                                                                \u001b[23;1H                                                                                \u001b[24;1H                                                                                \u001b[m\u001b[38;5;2m\u001b[48;5;16m\u001b[3;1HSession Status                online\u001b[m\u001b[38;5;16m\u001b[48;5;16m    \u001b[m\u001b[38;5;7m\u001b[48;5;16m\u001b[4;1HAccount\u001b[4;31HNeil Gohil (Plan: Free)\u001b[5;1HV\u001b[5;3Hrsion\u001b[5;31H2.3.40\u001b[m\u001b[38;5;16m\u001b[48;5;16m            \u001b[m\u001b[38;5;7m\u001b[48;5;16m\u001b[6;1HR\u001b[6;3Hgio\u001b[6;7H       \u001b[6;31HUnited States (us)\u001b[m\u001b[38;5;16m\u001b[48;5;16m   \u001b[m\u001b[38;5;7m\u001b[48;5;16m\u001b[7;1HWeb Interface                 http://127.0.0.1:4040\u001b[8;1HF\u001b[8;3Hrward\u001b[8;9Hng \u001b[8;31Hh\u001b[8;33Htps://6361e259efb7.ngrok.io\u001b[8;61H-> http://localhost:\u001b[m\u001b[38;5;16m\u001b[48;5;16m\u001b[9;1H                                                                              \u001b[m\u001b[38;5;7m\u001b[48;5;16m\u001b[10;1HConnections                   ttl     opn     rt1     rt5     p50     p90     \u001b[11;1H                              0       0       0.00    0.00    0.00    0.00    \u001b[8;35H:/\u001b[8;38H6361e259efb7.ngrok.io -> ht\u001b[8;66Hp:/\u001b[8;70Hlocalhost:5\u001b[9;1HForwarding                    https://6361e259efb7.ngrok.io -> http://localhost:\u001b[m\u001b[38;5;16m\u001b[48;5;16m\u001b[10;1H                                                                              \u001b[m\u001b[38;5;7m\u001b[48;5;16m\u001b[11;1HConnections\u001b[11;31Httl\u001b[11;39Hopn\u001b[11;47Hrt1 \u001b[11;55Hrt5 \u001b[11;63Hp5\u001b[11;66H \u001b[11;71Hp9\u001b[11;74H \u001b[12;1H                              0       0       0.00    0.00    0.00    0.00    \u001b[12;39H1\u001b[14;1HHTTP Requests\u001b[15;1H-------------\u001b[17;1HPOST\u001b[17;6H/webhook/\u001b[17;32H200 OK\u001b[12;31H1\u001b[12;39H0\u001b[12;65H17\u001b[12;73H17\u001b[12;50H2\u001b[12;50H1\u001b[12;39H1\u001b[m\u001b[38;5;16m\u001b[48;5;16m\u001b[17;32H      \u001b[m\u001b[38;5;7m\u001b[48;5;16m\u001b[18;1HPOST\u001b[18;6H/webhook/\u001b[18;32H200 OK\u001b[17;32H200 OK\u001b[12;31H2\u001b[12;39H0\u001b[12;66H6\u001b[12;50H3\u001b[12;58H1\u001b[12;50H2\u001b[12;50H1"
     ]
    }
   ],
   "source": [
    "!./ngrok http 5000"
   ]
  },
  {
   "cell_type": "code",
   "execution_count": null,
   "metadata": {},
   "outputs": [],
   "source": []
  }
 ],
 "metadata": {
  "kernelspec": {
   "display_name": "Python 2",
   "language": "python",
   "name": "python2"
  },
  "language_info": {
   "codemirror_mode": {
    "name": "ipython",
    "version": 2
   },
   "file_extension": ".py",
   "mimetype": "text/x-python",
   "name": "python",
   "nbconvert_exporter": "python",
   "pygments_lexer": "ipython2",
   "version": "2.7.18"
  }
 },
 "nbformat": 4,
 "nbformat_minor": 2
}

